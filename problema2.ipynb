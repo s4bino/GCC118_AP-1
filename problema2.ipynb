{
  "nbformat": 4,
  "nbformat_minor": 0,
  "metadata": {
    "colab": {
      "provenance": []
    },
    "kernelspec": {
      "name": "python3",
      "display_name": "Python 3"
    },
    "language_info": {
      "name": "python"
    }
  },
  "cells": [
    {
      "cell_type": "markdown",
      "source": [
        "# **Programação matemática**\n",
        "\n",
        "**Alunos:**\n",
        "- Heitor Rodrigues Sabino\n",
        "- Ranulfo Mascari Neto"
      ],
      "metadata": {
        "id": "Xt_T-eItuhad"
      }
    },
    {
      "cell_type": "markdown",
      "source": [
        "*Ao fazer, fiz no caderno o meu pensamento e tentei ser o mais simplista na minha resolução, visto que clareza é um ponto a ser avaliado*"
      ],
      "metadata": {
        "id": "V-h2kcRtwgfh"
      }
    },
    {
      "cell_type": "markdown",
      "source": [
        "## **Instalação e importação das bibliotecas**"
      ],
      "metadata": {
        "id": "59xiz8bAwWTT"
      }
    },
    {
      "cell_type": "code",
      "execution_count": null,
      "metadata": {
        "id": "L25fbg6yXgVP"
      },
      "outputs": [],
      "source": [
        "!pip install pulp\n",
        "import pulp"
      ]
    },
    {
      "cell_type": "markdown",
      "source": [
        "## **Iniciando modelo de minimização**"
      ],
      "metadata": {
        "id": "i0zbeJvTwRGT"
      }
    },
    {
      "cell_type": "code",
      "source": [
        "model = pulp.LpProblem('producao_camisetas', pulp.LpMinimize)"
      ],
      "metadata": {
        "id": "_DyFyhhvigmu"
      },
      "execution_count": null,
      "outputs": []
    },
    {
      "cell_type": "markdown",
      "source": [
        "## **Variáveis de decisão**"
      ],
      "metadata": {
        "id": "c-Om5so1imPX"
      }
    },
    {
      "cell_type": "code",
      "source": [
        "x1 = pulp.LpVariable('x1', lowBound=0)  # Produção semana 1\n",
        "x2 = pulp.LpVariable('x2', lowBound=0)  # Produção semana 2\n",
        "x3 = pulp.LpVariable('x3', lowBound=0)  # Produção semana 3\n",
        "x4 = pulp.LpVariable('x4', lowBound=0)  # Produção semana 4\n",
        "\n",
        "y1 = pulp.LpVariable('y1', lowBound=0)  # Horas extras semana 1\n",
        "y2 = pulp.LpVariable('y2', lowBound=0)  # Horas extras semana 2\n",
        "\n",
        "s1 = pulp.LpVariable('s1', lowBound=0)  # Estoque semana 1\n",
        "s2 = pulp.LpVariable('s2', lowBound=0)  # Estoque semana 2\n",
        "s3 = pulp.LpVariable('s3', lowBound=0)  # Estoque semana 3"
      ],
      "metadata": {
        "id": "x3bsQZDhikXj"
      },
      "execution_count": 5,
      "outputs": []
    },
    {
      "cell_type": "markdown",
      "source": [
        "As variáveis de decisão representam as quantidades de camisetas produzidas, horas extras utilizadas e estoque ao final de cada semana:\n",
        "- `x1, x2, x3, x4`: quantidade de camisetas produzidas nas semanas 1, 2, 3 e 4, respectivamente.\n",
        "- `y1, y2`: quantidade de camisetas produzidas em **horas extras** nas semanas 1 e 2, respectivamente.\n",
        "- `s1, s2, s3`: estoque de camisetas ao final das semanas 1, 2 e 3, respectivamente.\n",
        "\n",
        "Essas variáveis são definidas com o argumento `lowBound=0`, garantindo que os valores serão **não negativos** (não podemos ter produção ou estoque negativos)."
      ],
      "metadata": {
        "id": "83N_kiCgvjWd"
      }
    },
    {
      "cell_type": "markdown",
      "source": [
        "## **Função Objetivo**"
      ],
      "metadata": {
        "id": "QcDh0gl4i9Zj"
      }
    },
    {
      "cell_type": "code",
      "source": [
        "model += (2 * x1 + 2.8 * y1 + 2 * x2 + 2.8 * y2 +\n",
        "          2.5 * x3 + 2.5 * x4 +\n",
        "          0.2 * s1 + 0.2 * s2 + 0.2 * s3), \"Total_Cost\""
      ],
      "metadata": {
        "id": "xwkfkNITjGjJ"
      },
      "execution_count": 6,
      "outputs": []
    },
    {
      "cell_type": "markdown",
      "source": [
        "A função objetivo representa o **custo total** que queremos minimizar. Ela inclui:\n",
        "- Custo de produção regular:\n",
        "  - Semana 1 e 2: R\\$ 2,00 por camiseta.\n",
        "  - Semana 3 e 4: R\\$ 2,50 por camiseta.\n",
        "- Custo de produção em horas extras:\n",
        "  - Semana 1 e 2: R\\$ 2,80 por camiseta.\n",
        "- Custo de estocagem:\n",
        "  - Custo de R\\$ 0,20 por unidade estocada ao final das semanas 1, 2 e 3."
      ],
      "metadata": {
        "id": "jUlVYDKZvqDZ"
      }
    },
    {
      "cell_type": "markdown",
      "source": [
        "## **Restrições de prodrução**"
      ],
      "metadata": {
        "id": "FTFrJvk6jITR"
      }
    },
    {
      "cell_type": "code",
      "source": [
        "model += x1 <= 25000, \"Capacidade_semanal_1\"\n",
        "model += x2 <= 25000, \"Capacidade_semanal_2\"\n",
        "model += x3 <= 25000, \"Capacidade_semanal_3\"\n",
        "model += x4 <= 25000, \"Capacidade_semanal_4\"\n",
        "model += y1 <= 10000, \"Horas_extras_1\"\n",
        "model += y2 <= 10000, \"Horas_extras_2\""
      ],
      "metadata": {
        "id": "aCwVX-rwjRP_"
      },
      "execution_count": 7,
      "outputs": []
    },
    {
      "cell_type": "markdown",
      "source": [
        "Essas restrições garantem que:\n",
        "- A fábrica pode produzir no máximo **25.000 camisetas** por semana, durante as 4 semanas.\n",
        "- A fábrica pode fabricar até **10.000 camisetas em horas extras** nas semanas 1 e 2."
      ],
      "metadata": {
        "id": "FRmCY_O1v23b"
      }
    },
    {
      "cell_type": "markdown",
      "source": [
        "## **Restrições de estoque e demanda**"
      ],
      "metadata": {
        "id": "N7lC7gNejbpP"
      }
    },
    {
      "cell_type": "code",
      "source": [
        "model += s1 == x1 + y1 - 5000, \"Estoque_final_1\"\n",
        "model += s2 == x2 + y2 + s1 - 10000, \"Estoque_final_2\"\n",
        "model += s3 == x3 + s2 - 30000, \"Estoque_final_3\"\n",
        "model += x4 + s3 == 60000, \"Atendimento_demanda_4\""
      ],
      "metadata": {
        "id": "ZE95BSzAjbRz"
      },
      "execution_count": 8,
      "outputs": []
    },
    {
      "cell_type": "markdown",
      "source": [
        "Estas restrições controlam o fluxo de produção e estoque entre as semanas:\n",
        "- **Demanda por camisetas** em cada semana:\n",
        "  - Semana 1: 5.000 unidades.\n",
        "  - Semana 2: 10.000 unidades.\n",
        "  - Semana 3: 30.000 unidades.\n",
        "  - Semana 4: 60.000 unidades.\n",
        "- **Estoque** ao final de cada semana:\n",
        "  - Semana 1: O estoque é igual à produção da semana 1 (`x1 + y1`) menos a demanda de 5.000 camisetas.\n",
        "  - Semana 2: O estoque é o que sobrou da semana anterior (`s1`), somado à produção da semana 2, menos a demanda de 10.000.\n",
        "  - Semana 3: Similar ao anterior, ajustando a demanda para 30.000 unidades.\n",
        "  - Semana 4: A produção da semana 4 mais o estoque remanescente da semana 3 deve atender completamente a demanda de 60.000 unidades (com o estoque final sendo 0)."
      ],
      "metadata": {
        "id": "V2RhrBH3wBt0"
      }
    },
    {
      "cell_type": "markdown",
      "source": [
        "## **Solve**"
      ],
      "metadata": {
        "id": "3wDKOEi4jm52"
      }
    },
    {
      "cell_type": "code",
      "source": [
        "model.solve()"
      ],
      "metadata": {
        "colab": {
          "base_uri": "https://localhost:8080/"
        },
        "id": "fXFgTQMpjp2p",
        "outputId": "a2765d13-4918-4071-96f5-59da5d9568bc"
      },
      "execution_count": 9,
      "outputs": [
        {
          "output_type": "execute_result",
          "data": {
            "text/plain": [
              "1"
            ]
          },
          "metadata": {},
          "execution_count": 9
        }
      ]
    },
    {
      "cell_type": "markdown",
      "source": [
        "## **Exibindo solução**"
      ],
      "metadata": {
        "id": "w1gy1h5wjpZV"
      }
    },
    {
      "cell_type": "code",
      "source": [
        "print(\"Status:\", pulp.LpStatus[model.status])\n",
        "print(\"Custo total: R$\", pulp.value(model.objective))\n",
        "print(\"Produção semana 1:\", x1.varValue)\n",
        "print(\"Produção horas extras semana 1:\", y1.varValue)\n",
        "print(\"Produção semana 2:\", x2.varValue)\n",
        "print(\"Produção horas extras semana 2:\", y2.varValue)\n",
        "print(\"Produção semana 3:\", x3.varValue)\n",
        "print(\"Produção semana 4:\", x4.varValue)\n",
        "print(\"Estoque semana 1:\", s1.varValue)\n",
        "print(\"Estoque semana 2:\", s2.varValue)\n",
        "print(\"Estoque semana 3:\", s3.varValue)"
      ],
      "metadata": {
        "colab": {
          "base_uri": "https://localhost:8080/"
        },
        "id": "tcv54I3JjzIA",
        "outputId": "6a1824ca-6d45-4624-ad9e-4dd4e1df3731"
      },
      "execution_count": 10,
      "outputs": [
        {
          "output_type": "stream",
          "name": "stdout",
          "text": [
            "Status: Optimal\n",
            "Custo total: R$ 258000.0\n",
            "Produção semana 1: 25000.0\n",
            "Produção horas extras semana 1: 0.0\n",
            "Produção semana 2: 25000.0\n",
            "Produção horas extras semana 2: 5000.0\n",
            "Produção semana 3: 25000.0\n",
            "Produção semana 4: 25000.0\n",
            "Estoque semana 1: 20000.0\n",
            "Estoque semana 2: 40000.0\n",
            "Estoque semana 3: 35000.0\n"
          ]
        }
      ]
    }
  ]
}