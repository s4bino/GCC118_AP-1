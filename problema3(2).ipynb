{
  "nbformat": 4,
  "nbformat_minor": 0,
  "metadata": {
    "colab": {
      "provenance": []
    },
    "kernelspec": {
      "name": "python3",
      "display_name": "Python 3"
    },
    "language_info": {
      "name": "python"
    }
  },
  "cells": [
    {
      "cell_type": "markdown",
      "source": [
        "# Programação Matemática (GCC118)\n",
        "## Universidade Federal de Lavras (UFLA)\n",
        "### Instituto de Ciências Exatas e Tecnológicas\n",
        "\n",
        "#### Grupo\n",
        "- Ranulfo Mascari Neto\n",
        "- Heitor Rodrigues Sabino"
      ],
      "metadata": {
        "id": "a6TBeuLyc8LN"
      }
    },
    {
      "cell_type": "markdown",
      "source": [
        "## Problema 3\n",
        "\n",
        "A cidade de União Paulista enfrenta uma séria carência orçamentária. Em busca de uma solução de longo prazo, a câmara de vereadores da cidade aprova uma melhoria da base da cobrança de impostos que prevê a condenação de uma área habitacional do centro da cidade e sua substituição por um conjunto habitacional moderno.\n",
        "\n",
        "O projeto envolve duas fases:\n",
        "\n",
        "1. Demolição das casas que estão aquém do padrão para liberar terreno para o novo projeto;\n",
        "2. Construção do novo conjunto urbano. A seguir, daremos um resumo da situação.\n",
        "\n",
        "Um total de 300 casas aquém do padrão podem ser demolidas. Cada casa ocupa um lote de 0,25 acres. O custo de demolição de uma casa condenada é de $2.000. Os tamanhos de lotes para domicílios (unidades) simples, duplos, triplos e quádruplos são de 0,18; 0,28; 0,4 e 0,5 acres, respectivamente. Ruas, espaços abertos e instalações públicas ocupam 15% da área disponível.\n",
        "\n",
        "No novo conjunto habitacional, as unidades triplas e quádruplas representam no mínimo 25% do total. Unidades simples devem representar no mínimo 20% de todas as unidades, e unidades duplas, no mínimo 10%. O imposto cobrado por unidade para unidades simples, duplas, triplas e quádruplas é de \\$1.000, \\$1.900, \\$2.700 e \\$3.400, respectivamente.\n",
        "\n",
        "O custo de construção por unidade domiciliar simples, dupla, tripla e quádrupla é de \\$50.000, \\$70.000, \\$130.000 e \\$160.000, respectivamente. O financiamento acordado com um banco local será de no máximo \\$15 milhões.\n",
        "\n",
        "### Objetivo\n",
        "Quantas unidades de cada tipo devem ser construídas para maximizar a arrecadação de impostos?"
      ],
      "metadata": {
        "id": "71ELP4ShZ6yR"
      }
    },
    {
      "cell_type": "markdown",
      "source": [
        "### Instalação da biblioteca PuLP\n",
        "\n",
        "Para mais informações, acesse: [PuLP 2.9.0](https://pypi.org/project/PuLP/)."
      ],
      "metadata": {
        "id": "uzMNTI0L_LCP"
      }
    },
    {
      "cell_type": "code",
      "source": [
        "!pip install pulp\n",
        "import pulp"
      ],
      "metadata": {
        "colab": {
          "base_uri": "https://localhost:8080/"
        },
        "id": "yQyUjfW__OeO",
        "outputId": "698690a1-29d4-4b65-b44f-2ae84d00ca0e"
      },
      "execution_count": 1,
      "outputs": [
        {
          "output_type": "stream",
          "name": "stdout",
          "text": [
            "Collecting pulp\n",
            "  Downloading PuLP-2.9.0-py3-none-any.whl.metadata (5.4 kB)\n",
            "Downloading PuLP-2.9.0-py3-none-any.whl (17.7 MB)\n",
            "\u001b[2K   \u001b[90m━━━━━━━━━━━━━━━━━━━━━━━━━━━━━━━━━━━━━━━━\u001b[0m \u001b[32m17.7/17.7 MB\u001b[0m \u001b[31m18.3 MB/s\u001b[0m eta \u001b[36m0:00:00\u001b[0m\n",
            "\u001b[?25hInstalling collected packages: pulp\n",
            "Successfully installed pulp-2.9.0\n"
          ]
        }
      ]
    },
    {
      "cell_type": "markdown",
      "source": [
        "## Modelagem Matemática\n",
        "\n",
        "A seguir, apresentaremos a modelagem matemática deste problema, especificando os principais elementos da modelagem de um problema de programação matemática: $(i)$ parâmetros (dados); $(ii)$ variáveis de decisão; $(iii)$ modelagem, composta por uma função objetivo, restrições do problema e restrições de domínio das variáveis de decisão."
      ],
      "metadata": {
        "id": "czGIqgvCfAR1"
      }
    },
    {
      "cell_type": "markdown",
      "source": [
        "### Parâmetros\n",
        "\n",
        "- **Tamanho do Lote**:\n",
        "  - $ l_i \\in \\mathbb{R}_+ $: tamanho do lote do modelo de domicílio $ i $, onde $ i \\in D $.\n",
        "  - $ l_s \\in \\mathbb{R}_+ $: tamanho do lote de casas aquém do padrão.\n",
        "\n",
        "- **Ocupação Mínima**:\n",
        "  - $ o_i \\in \\mathbb{R}_+ $: porcentagem mínima de ocupação exigida para o modelo de domicílio $ i $, onde $ i \\in D $.\n",
        "\n",
        "- **Imposto**:\n",
        "  - $ t_i \\in \\mathbb{R}_+ $: imposto gerado pelo modelo de domicílio $ i $, onde $ i \\in D $.\n",
        "\n",
        "- **Custo de Construção**:\n",
        "  - $ c_i \\in \\mathbb{R}_+ $: custo de construção do modelo de domicílio $ i $, onde $ i \\in D $.\n",
        "\n",
        "- **Domicílios**:\n",
        "  - $ D $: conjunto dos modelos de domicílios, onde $ i \\in D $ representa:\n",
        "    1. **Simples**:\n",
        "      - Tamanho do Lote: 0,18 acres;\n",
        "      - Ocupação Mínima: 20%;\n",
        "      - Imposto: \\$1.000;\n",
        "      - Custo de Construção: \\$50.000;\n",
        "      \n",
        "    2. **Duplos**:\n",
        "      - Tamanho do Lote: 0,28 acres;\n",
        "      - Ocupação Mínima: 10%;\n",
        "      - Imposto: \\$1.900;\n",
        "      - Custo de Construção: \\$70.000;\n",
        "\n",
        "    3. **Triplos**:\n",
        "      - Tamanho do Lote: 0,40 acres;\n",
        "      - Ocupação Mínima: 25%;\n",
        "      - Imposto: \\$2.700;\n",
        "      - Custo de Construção: \\$130.000;\n",
        "\n",
        "    4. **Quádruplos**:\n",
        "      - Tamanho do Lote: 0,50 acres;\n",
        "      - Ocupação Mínima: 25%;\n",
        "      - Imposto: \\$3.400;\n",
        "      - Custo de Construção: \\$160.000;\n",
        "\n",
        "- **Total de Casas Demolidas**:\n",
        "  - $ T \\in \\mathbb{N} $: número total de casas aquém do padrão que podem ser demolidas, definido como 300 casas.\n",
        "\n",
        "- **Custo de Demolição**:\n",
        "  - $ d_s \\in \\mathbb{R}_+ $: custo de demolição de uma casa condenada, definido como $2.000 por casa.\n",
        "\n",
        "- **Financiamento**:\n",
        "  - $ F \\in \\mathbb{R}_+ $: valor máximo do financiamento acordado com o banco local, definido como 15 milhões de dólares."
      ],
      "metadata": {
        "id": "0sLmDLNXgGcl"
      }
    },
    {
      "cell_type": "code",
      "source": [
        "D = [\"Simples\", \"Duplo\", \"Triplo\", \"Quadruplo\"]\n",
        "\n",
        "l = {\n",
        "    \"Simples\": 0.18,\n",
        "    \"Duplo\": 0.28,\n",
        "    \"Triplo\": 0.4,\n",
        "    \"Quadruplo\": 0.5\n",
        "}\n",
        "\n",
        "l_s = 0.25\n",
        "\n",
        "o = {\n",
        "    \"Simples\": 0.2,\n",
        "    \"Duplo\": 0.1,\n",
        "    \"Triplo e Quadruplo\": 0.25\n",
        "}\n",
        "\n",
        "t = {\n",
        "    \"Simples\": 1000.0,\n",
        "    \"Duplo\": 1900.0,\n",
        "    \"Triplo\": 2700.0,\n",
        "    \"Quadruplo\": 3400.0,\n",
        "}\n",
        "\n",
        "c = {\n",
        "    \"Simples\": 50000.0,\n",
        "    \"Duplo\": 70000.0,\n",
        "    \"Triplo\": 130000.0,\n",
        "    \"Quadruplo\": 160000.0,\n",
        "}\n",
        "\n",
        "T = 300.0\n",
        "\n",
        "d_s = 2000.0\n",
        "\n",
        "F = 15000000.0"
      ],
      "metadata": {
        "id": "OjkZQ7Qw_3tj"
      },
      "execution_count": 2,
      "outputs": []
    },
    {
      "cell_type": "markdown",
      "source": [
        "### Declaração do objeto que representa o modelo matemático"
      ],
      "metadata": {
        "id": "7DDYatOlA0wN"
      }
    },
    {
      "cell_type": "code",
      "source": [
        "modelo = pulp.LpProblem('arrecadacao_de_impostos', pulp.LpMaximize)"
      ],
      "metadata": {
        "id": "Q0ZvcoMoA4w-"
      },
      "execution_count": 3,
      "outputs": []
    },
    {
      "cell_type": "markdown",
      "source": [
        "### Variáveis de Decisão\n",
        "\n",
        "- $x_i \\ge 0$: representa o número de unidades de domicílios a serem construídas do modelo $i$, onde $i \\in D$.\n"
      ],
      "metadata": {
        "id": "ji_UmDU_nHkF"
      }
    },
    {
      "cell_type": "code",
      "source": [
        "x = pulp.LpVariable.dicts('x', D, lowBound=0, cat='Integer')"
      ],
      "metadata": {
        "id": "WEjrqu79BVYG"
      },
      "execution_count": 4,
      "outputs": []
    },
    {
      "cell_type": "markdown",
      "source": [
        "- $0 \\le n \\le T$: representa o número de casas aquém do padrão que serão demolidas."
      ],
      "metadata": {
        "id": "tzB6vJlCii_Z"
      }
    },
    {
      "cell_type": "code",
      "source": [
        "n = pulp.LpVariable('n', cat='Integer', lowBound=0, upBound=T)"
      ],
      "metadata": {
        "id": "Xtlaw9RtjgHm"
      },
      "execution_count": 5,
      "outputs": []
    },
    {
      "cell_type": "markdown",
      "source": [
        "### Função Objetivo\n",
        "\n",
        "- Maximização da Arrecadação de Impostos: $\\max \\sum_{i \\in D} t_ix_i$\n",
        "\n",
        "  onde:\n",
        "  - $ x_i $ é o número de unidades do modelo de domicílio $ i $ construídas, onde $ i \\in D $.\n",
        "  - $ t_i $ é o imposto gerado por cada unidade do modelo de domicílio $ i $, onde $ i \\in D $.\n"
      ],
      "metadata": {
        "id": "IC8oohYtowN-"
      }
    },
    {
      "cell_type": "code",
      "source": [
        "modelo += pulp.lpSum([t[i] * x[i] for i in D])"
      ],
      "metadata": {
        "id": "jPVW2BnwDhUE"
      },
      "execution_count": 6,
      "outputs": []
    },
    {
      "cell_type": "markdown",
      "source": [
        "### Restrições\n",
        "\n",
        "As restrições do problema são as seguintes:\n",
        "\n",
        "- **Restrição de Lote**: Os tamanhos de lotes para domicílios (unidades) não podem ultrapassar a área disponível:\n",
        "\n",
        "  $$\\sum_{i \\in D} l_i x_i \\le (100\\% - 15\\%)l_s n$$\n",
        "\n",
        "  considerando que 15% da área disponível é ocupado por ruas, espaços abertos e instalações públicas."
      ],
      "metadata": {
        "id": "L3aLimycutnB"
      }
    },
    {
      "cell_type": "code",
      "source": [
        "modelo += pulp.lpSum([l[i] * x[i] for i in D]) <= (1 - 0.15) * l_s * n"
      ],
      "metadata": {
        "id": "HETXg4KRuwK1"
      },
      "execution_count": 7,
      "outputs": []
    },
    {
      "cell_type": "markdown",
      "source": [
        "- **Restrição de Ocupação** (Segundo caso): As respectivas unidades devem respeitar o limite mínimo do total de unidades:\n",
        "\n",
        "*Obs: No segundo caso, a restrição de ocupação dos domicílios triplos e quádruplos foi considerada mutuamente. No Primeiro caso, a restrição foi considerada separadamente.*\n"
      ],
      "metadata": {
        "id": "OA_CBw7yu5ko"
      }
    },
    {
      "cell_type": "code",
      "source": [
        "modelo += x[\"Simples\"] >= o[\"Simples\"] * pulp.lpSum([x[i] for i in D])"
      ],
      "metadata": {
        "id": "Dv0JYxVDu7Ns"
      },
      "execution_count": 8,
      "outputs": []
    },
    {
      "cell_type": "code",
      "source": [
        "modelo += x[\"Duplo\"] >= o[\"Duplo\"] * pulp.lpSum([x[i] for i in D])"
      ],
      "metadata": {
        "id": "IAPMS5tJ1dhs"
      },
      "execution_count": 9,
      "outputs": []
    },
    {
      "cell_type": "code",
      "source": [
        "modelo += x[\"Triplo\"] + x[\"Quadruplo\"] >= o[\"Triplo e Quadruplo\"] * pulp.lpSum([x[i] for i in D])"
      ],
      "metadata": {
        "id": "95R8t1WA1eOF"
      },
      "execution_count": 10,
      "outputs": []
    },
    {
      "cell_type": "markdown",
      "source": [
        "- **Restrição de Financiamento**: As construções e demolições devem respeitar o limite máximo do financiamento acordado com o banco local:\n",
        "  $$\\sum_{i \\in D} c_i x_i + d_s n \\le F$$"
      ],
      "metadata": {
        "id": "PDu8GJ1GsIkm"
      }
    },
    {
      "cell_type": "code",
      "source": [
        "modelo += pulp.lpSum([c[i] * x[i] for i in D]) + d_s * n <= F"
      ],
      "metadata": {
        "id": "QT-RR_OLvWG2"
      },
      "execution_count": 11,
      "outputs": []
    },
    {
      "cell_type": "code",
      "source": [
        "modelo"
      ],
      "metadata": {
        "colab": {
          "base_uri": "https://localhost:8080/"
        },
        "id": "Qm7s4VYFFZD3",
        "outputId": "680e8564-4782-4cf7-bc47-1c593cd2713e"
      },
      "execution_count": 12,
      "outputs": [
        {
          "output_type": "execute_result",
          "data": {
            "text/plain": [
              "arrecadacao_de_impostos:\n",
              "MAXIMIZE\n",
              "1900.0*x_Duplo + 3400.0*x_Quadruplo + 1000.0*x_Simples + 2700.0*x_Triplo + 0.0\n",
              "SUBJECT TO\n",
              "_C1: - 0.2125 n + 0.28 x_Duplo + 0.5 x_Quadruplo + 0.18 x_Simples\n",
              " + 0.4 x_Triplo <= 0\n",
              "\n",
              "_C2: - 0.2 x_Duplo - 0.2 x_Quadruplo + 0.8 x_Simples - 0.2 x_Triplo >= 0\n",
              "\n",
              "_C3: 0.9 x_Duplo - 0.1 x_Quadruplo - 0.1 x_Simples - 0.1 x_Triplo >= 0\n",
              "\n",
              "_C4: - 0.25 x_Duplo + 0.75 x_Quadruplo - 0.25 x_Simples + 0.75 x_Triplo >= 0\n",
              "\n",
              "_C5: 2000 n + 70000 x_Duplo + 160000 x_Quadruplo + 50000 x_Simples\n",
              " + 130000 x_Triplo <= 15000000\n",
              "\n",
              "VARIABLES\n",
              "0 <= n <= 300 Integer\n",
              "0 <= x_Duplo Integer\n",
              "0 <= x_Quadruplo Integer\n",
              "0 <= x_Simples Integer\n",
              "0 <= x_Triplo Integer"
            ]
          },
          "metadata": {},
          "execution_count": 12
        }
      ]
    },
    {
      "cell_type": "markdown",
      "source": [
        "### Resolvendo o problema"
      ],
      "metadata": {
        "id": "VU3e4wALFzRj"
      }
    },
    {
      "cell_type": "code",
      "source": [
        "status = modelo.solve()"
      ],
      "metadata": {
        "id": "_VFo_wdNF2lK"
      },
      "execution_count": 13,
      "outputs": []
    },
    {
      "cell_type": "markdown",
      "source": [
        "### Imprimindo as soluções do problema"
      ],
      "metadata": {
        "id": "QLCMffgjF7Lm"
      }
    },
    {
      "cell_type": "code",
      "source": [
        "print('status: ', pulp.LpStatus[status])\n",
        "print(f'funcao objetivo: ${modelo.objective.value()} impostos arrecadados')\n",
        "\n",
        "for i in D:\n",
        "  print(f'Domicílio ({i}): {x[i].value()} construídos')"
      ],
      "metadata": {
        "colab": {
          "base_uri": "https://localhost:8080/"
        },
        "id": "qJXkg0rOF89J",
        "outputId": "afb02616-dbd3-4afb-c572-1b009b53c7df"
      },
      "execution_count": 14,
      "outputs": [
        {
          "output_type": "stream",
          "name": "stdout",
          "text": [
            "status:  Optimal\n",
            "funcao objetivo: $343700.0 impostos arrecadados\n",
            "Domicílio (Simples): 36.0 construídos\n",
            "Domicílio (Duplo): 98.0 construídos\n",
            "Domicílio (Triplo): 45.0 construídos\n",
            "Domicílio (Quadruplo): 0.0 construídos\n"
          ]
        }
      ]
    }
  ]
}