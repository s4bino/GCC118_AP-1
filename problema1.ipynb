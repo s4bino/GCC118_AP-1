{
  "nbformat": 4,
  "nbformat_minor": 0,
  "metadata": {
    "colab": {
      "provenance": []
    },
    "kernelspec": {
      "name": "python3",
      "display_name": "Python 3"
    },
    "language_info": {
      "name": "python"
    }
  },
  "cells": [
    {
      "cell_type": "markdown",
      "source": [
        "# Programação Matemática (GCC118)\n",
        "## Universidade Federal de Lavras (UFLA)\n",
        "### Instituto de Ciências Exatas e Tecnológicas\n",
        "\n",
        "#### Grupo\n",
        "- Ranulfo Mascari Neto\n",
        "- Heitor Rodrigues Sabino"
      ],
      "metadata": {
        "id": "a6TBeuLyc8LN"
      }
    },
    {
      "cell_type": "markdown",
      "source": [
        "## Problema 1\n",
        "A Empresa de Viação Aérea Brasileira está estudando a compra de três tipos de aviões: Boeing 717 para as pontes aéreas a curta distância, Boeing 737-500 para voos domésticos e internacionais de média distância e MD-11 para voos internacionais de longa distância. Em um estudo preliminar, considerou-se que a capacidade máxima dos aviões a serem comprados será sempre preenchida para efeito de planejamento. Os dados de planejamento constam na Tabela 1.\n",
        "\n",
        "\n",
        "**Tabela 1: Informações sobre os aviões.**\n",
        "\n",
        "|        Avião        | Custo (milhões de \\$) | Receita Teórica (milhões de \\$) | Pilotos aptos |\n",
        "|:-------------------:|:---------------------:|:-------------------------------:|:-------------:|\n",
        "|     BOEING 717     |          5,1          |              330                |       30      |\n",
        "|   BOEING 737-500   |          3,6          |              300                |       20      |\n",
        "|        MD-11       |          6,8          |              420                |       10      |\n",
        "\n",
        "\n",
        "A verba disponível para as compras é de 220 milhões de dólares. Os pilotos de MD-11 podem pilotar todos os aviões da empresa, mas os demais pilotos só podem ser escalados às aeronaves a que foram habilitados. Cada aeronave necessita de dois pilotos para operar. As oficinas de manutenção podem suportar até 40 Boeings 717. Um Boeing 737-500 equivale, em esforço de manutenção, a $\\frac{3}{4}$, e um MD-11 a $\\frac{5}{3}$, quando referidos ao Boeing 717.\n",
        "\n",
        "### Objetivo\n",
        "\n",
        "Determinar as aquisições de aviões nesta empresa, maximizando as receitas.\n"
      ],
      "metadata": {
        "id": "71ELP4ShZ6yR"
      }
    },
    {
      "cell_type": "markdown",
      "source": [
        "### Instalação da biblioteca PuLP\n",
        "\n",
        "Para mais informações, acesse: [PuLP 2.9.0](https://pypi.org/project/PuLP/)."
      ],
      "metadata": {
        "id": "uzMNTI0L_LCP"
      }
    },
    {
      "cell_type": "code",
      "source": [
        "!pip install pulp\n",
        "import pulp"
      ],
      "metadata": {
        "colab": {
          "base_uri": "https://localhost:8080/"
        },
        "id": "yQyUjfW__OeO",
        "outputId": "c4c25b1d-d581-40f7-f173-b41ecded870b"
      },
      "execution_count": 1,
      "outputs": [
        {
          "output_type": "stream",
          "name": "stdout",
          "text": [
            "Requirement already satisfied: pulp in /usr/local/lib/python3.10/dist-packages (2.9.0)\n"
          ]
        }
      ]
    },
    {
      "cell_type": "markdown",
      "source": [
        "## Modelagem Matemática\n",
        "\n",
        "A seguir, apresentaremos a modelagem matemática deste problema, especificando os principais elementos da modelagem de um problema de programação matemática: $(i)$ parâmetros (dados); $(ii)$ variáveis de decisão; $(iii)$ modelagem, composta por uma função objetivo, restrições do problema e restrições de domínio das variáveis de decisão."
      ],
      "metadata": {
        "id": "czGIqgvCfAR1"
      }
    },
    {
      "cell_type": "markdown",
      "source": [
        "### Parâmetros\n",
        "\n",
        "- **Custo**:\n",
        "  - $ c_i \\in \\mathbb{R}_+ $: custo do avião do modelo $ i $, onde $ i \\in A $.  \n",
        "- **Receita Teórica**:\n",
        "  - $ r_i \\in \\mathbb{R}_+ $: receita teórica do avião do modelo $ i $, onde $ i \\in A $.  \n",
        "- **Pilotos Aptos**:\n",
        "  - $ p_i \\in \\mathbb{Z}_+ $: número de pilotos aptos para operar o avião do modelo $ i $, onde $ i \\in A $.  \n",
        "- **Esforço de Manutenção**:\n",
        "  - $ e_i \\in \\mathbb{R}_+ $: esforço de manutenção requerido para o avião do modelo $ i $, definido em relação ao modelo $ j = 0 $  (Boeing 717), onde $ i, j \\in A $.  \n",
        "- **Verba Disponível**:\n",
        "  - $ B \\in \\mathbb{R}_+ $: verba disponível para aquisição dos aviões, sendo $ B $ = 220 milhões de dólares.\n",
        "- **Limite de Manutenção**:\n",
        "  - $ M_{max} \\in \\mathbb{Z}_+ $: limite máximo de aviões que podem ser mantidos, equivalente a 40 Boeings 717.\n",
        "\n",
        "\n",
        "- **Aviões**:\n",
        "  - $ A $: conjunto de modelos de aviões, onde $ i \\in A $ representa:\n",
        "    1. **Boeing 717** ($ i = 0 $):\n",
        "      - Custo ($ c_0 $): 5,1 milhões de dólares\n",
        "      - Receita Teórica ($ r_0 $): 330 milhões de dólares\n",
        "      - Pilotos Aptos ($ p_0 $): 30\n",
        "      - Esforço de Manutenção ($ e_{0} $): 1\n",
        "\n",
        "    2. **Boeing 737-500** ($ i = 1 $):\n",
        "      - Custo ($ c_1 $): 3,6 milhões de dólares\n",
        "      - Receita Teórica ($ r_1 $): 300 milhões de dólares\n",
        "      - Pilotos Aptos ($ p_1 $): 20\n",
        "      - Esforço de Manutenção ($ e_{1} $): $\\frac{3}{4}$\n",
        "\n",
        "    3. **MD-11** ($ i = 2 $):\n",
        "      - Custo ($ c_2 $): 6,8 milhões de dólares\n",
        "      - Receita Teórica ($ r_2 $): 420 milhões de dólares\n",
        "      - Pilotos Aptos ($ p_2 $): 10\n",
        "      - Esforço de Manutenção ($ e_{2} $): $\\frac{5}{3}$"
      ],
      "metadata": {
        "id": "0sLmDLNXgGcl"
      }
    },
    {
      "cell_type": "code",
      "source": [
        "A = [\"Boeing 717\", \"Boeing 737-500\", \"MD-11\"]\n",
        "\n",
        "c = {\n",
        "    \"Boeing 717\": 5.1,\n",
        "    \"Boeing 737-500\": 3.6,\n",
        "    \"MD-11\": 6.8\n",
        "}\n",
        "\n",
        "r = {\n",
        "    \"Boeing 717\": 330,\n",
        "    \"Boeing 737-500\": 300,\n",
        "    \"MD-11\": 420\n",
        "}\n",
        "\n",
        "p = {\n",
        "    \"Boeing 717\": 30,\n",
        "    \"Boeing 737-500\": 20,\n",
        "    \"MD-11\": 10\n",
        "}\n",
        "\n",
        "e = {\n",
        "    \"Boeing 717\": 1,\n",
        "    \"Boeing 737-500\": 3/4,\n",
        "    \"MD-11\": 5/3\n",
        "}\n",
        "\n",
        "B = 220\n",
        "M_max = 40"
      ],
      "metadata": {
        "id": "OjkZQ7Qw_3tj"
      },
      "execution_count": 2,
      "outputs": []
    },
    {
      "cell_type": "markdown",
      "source": [
        "### Declaração do objeto que representa o modelo matemático"
      ],
      "metadata": {
        "id": "7DDYatOlA0wN"
      }
    },
    {
      "cell_type": "code",
      "source": [
        "modelo = pulp.LpProblem('aquisicao_avioes', pulp.LpMaximize)"
      ],
      "metadata": {
        "id": "Q0ZvcoMoA4w-"
      },
      "execution_count": 3,
      "outputs": []
    },
    {
      "cell_type": "markdown",
      "source": [
        "### Variáveis de Decisão\n",
        "\n",
        "- $x_i \\geq 0$: representa o número de aquisições do avião de modelo $i$ pela empresa, onde $i \\in A$.\n"
      ],
      "metadata": {
        "id": "ji_UmDU_nHkF"
      }
    },
    {
      "cell_type": "code",
      "source": [
        "x = pulp.LpVariable.dicts('x', A, lowBound=0, cat='Integer')"
      ],
      "metadata": {
        "id": "WEjrqu79BVYG"
      },
      "execution_count": 4,
      "outputs": []
    },
    {
      "cell_type": "markdown",
      "source": [
        "### Função Objetivo\n",
        "\n",
        "- Maximização da Receita: $\\max \\sum_{i \\in A} r_ix_i$\n",
        "\n",
        "  onde:\n",
        "  - $x_i$ é o número de aquisições do avião de modelo $i$;\n",
        "  - $r_i$ é a receita teórica gerada pelo avião de modelo $i$.\n"
      ],
      "metadata": {
        "id": "IC8oohYtowN-"
      }
    },
    {
      "cell_type": "code",
      "source": [
        "modelo += pulp.lpSum([r[i] * x[i] for i in A])"
      ],
      "metadata": {
        "id": "jPVW2BnwDhUE"
      },
      "execution_count": 5,
      "outputs": []
    },
    {
      "cell_type": "markdown",
      "source": [
        "### Restrições\n",
        "\n",
        "As restrições do problema são as seguintes:\n",
        "\n",
        "- **Verba Disponível**: A soma dos custos dos aviões adquiridos não pode exceder a verba disponível.\n",
        "\n",
        "  $$\\sum_{i \\in A} c_i x_i \\leq B$$"
      ],
      "metadata": {
        "id": "PDu8GJ1GsIkm"
      }
    },
    {
      "cell_type": "code",
      "source": [
        "modelo += pulp.lpSum([c[i] * x[i] for i in A]) <= B"
      ],
      "metadata": {
        "id": "pFU5disSD_eu"
      },
      "execution_count": 6,
      "outputs": []
    },
    {
      "cell_type": "markdown",
      "source": [
        "- **Limite de Manutenção**: O esforço total de manutenção requerido não pode exceder o limite de manutenção disponível. O esforço total de manutenção é calculado em relação ao Boeing 717.\n",
        "\n",
        "  $$\\sum_{i \\in A} e_i x_i \\leq M_{\\text{max}}$$"
      ],
      "metadata": {
        "id": "Tw0tpocYD9tz"
      }
    },
    {
      "cell_type": "code",
      "source": [
        "modelo += pulp.lpSum([e[i] * x[i] for i in A]) <= M_max"
      ],
      "metadata": {
        "id": "-RCXcmWmEI9-"
      },
      "execution_count": 7,
      "outputs": []
    },
    {
      "cell_type": "markdown",
      "source": [
        "- **Capacidade de Pilotos**: A quantidade de pilotos deve atender às exigências de cada modelo de avião, considerando que cada avião requer 2 pilotos:\n",
        "\n",
        "  - Para a aeronave Boeing 717, os pilotos de Boeing 717 e MD-11 podem ser escalados:\n",
        "\n",
        "  $$2x_0 \\leq p_0 + p_2$$\n",
        "\n",
        "  - Para a aeronave Boeing 737-500, os pilotos de Boeing 737-500 e MD-11 podem ser escalados:\n",
        "\n",
        "  $$2x_1 \\leq p_1 + p_2$$\n",
        "\n",
        "  - Somente os pilotos de MD-11 podem ser escalados à aeronave MD-11:\n",
        "\n",
        "  $$2x_2 \\leq p_2$$"
      ],
      "metadata": {
        "id": "28fhqvcmEIdd"
      }
    },
    {
      "cell_type": "code",
      "source": [
        "for i in A:\n",
        "  if i == \"MD-11\":\n",
        "    modelo += 2 * x[i] <= p[i]\n",
        "  else:\n",
        "    modelo += 2 * x[i] <= p[i] + p[\"MD-11\"]"
      ],
      "metadata": {
        "id": "ZPQzaZOBETln"
      },
      "execution_count": 8,
      "outputs": []
    },
    {
      "cell_type": "markdown",
      "source": [
        "- **Não Negatividade**: O número de aquisições de cada modelo de avião deve ser não negativo.\n",
        "\n",
        "  $$x_i \\geq 0, \\quad \\forall i \\in A$$"
      ],
      "metadata": {
        "id": "qsui6PtHES_K"
      }
    },
    {
      "cell_type": "code",
      "source": [
        "modelo"
      ],
      "metadata": {
        "colab": {
          "base_uri": "https://localhost:8080/"
        },
        "id": "Qm7s4VYFFZD3",
        "outputId": "6b7cb982-f54f-4dd0-8fdf-9baf69d5961a"
      },
      "execution_count": 9,
      "outputs": [
        {
          "output_type": "execute_result",
          "data": {
            "text/plain": [
              "aquisicao_avioes:\n",
              "MAXIMIZE\n",
              "330*x_Boeing_717 + 300*x_Boeing_737_500 + 420*x_MD_11 + 0\n",
              "SUBJECT TO\n",
              "_C1: 5.1 x_Boeing_717 + 3.6 x_Boeing_737_500 + 6.8 x_MD_11 <= 220\n",
              "\n",
              "_C2: x_Boeing_717 + 0.75 x_Boeing_737_500 + 1.66666666667 x_MD_11 <= 40\n",
              "\n",
              "_C3: 2 x_Boeing_717 <= 40\n",
              "\n",
              "_C4: 2 x_Boeing_737_500 <= 30\n",
              "\n",
              "_C5: 2 x_MD_11 <= 10\n",
              "\n",
              "VARIABLES\n",
              "0 <= x_Boeing_717 Integer\n",
              "0 <= x_Boeing_737_500 Integer\n",
              "0 <= x_MD_11 Integer"
            ]
          },
          "metadata": {},
          "execution_count": 9
        }
      ]
    },
    {
      "cell_type": "markdown",
      "source": [
        "### Resolvendo o problema"
      ],
      "metadata": {
        "id": "VU3e4wALFzRj"
      }
    },
    {
      "cell_type": "code",
      "source": [
        "status = modelo.solve()"
      ],
      "metadata": {
        "id": "_VFo_wdNF2lK"
      },
      "execution_count": 10,
      "outputs": []
    },
    {
      "cell_type": "markdown",
      "source": [
        "### Imprimindo as soluções do problema"
      ],
      "metadata": {
        "id": "QLCMffgjF7Lm"
      }
    },
    {
      "cell_type": "code",
      "source": [
        "print('status: ', pulp.LpStatus[status])\n",
        "print('funcao objetivo: ', modelo.objective.value())\n",
        "\n",
        "for i in A:\n",
        "    print(f\"Quantidade de {i} comprados: {x[i].varValue}\")\n",
        "print(f\"Receita prevista: {modelo.objective.value()} milhões de dólares.\")"
      ],
      "metadata": {
        "colab": {
          "base_uri": "https://localhost:8080/"
        },
        "id": "qJXkg0rOF89J",
        "outputId": "da78f0e4-0de4-4e17-94de-98e311142e5b"
      },
      "execution_count": 11,
      "outputs": [
        {
          "output_type": "stream",
          "name": "stdout",
          "text": [
            "status:  Optimal\n",
            "funcao objetivo:  13200.0\n",
            "Quantidade de Boeing 717 comprados: 20.0\n",
            "Quantidade de Boeing 737-500 comprados: 15.0\n",
            "Quantidade de MD-11 comprados: 5.0\n",
            "Receita prevista: 13200.0 milhões de dólares.\n"
          ]
        }
      ]
    }
  ]
}